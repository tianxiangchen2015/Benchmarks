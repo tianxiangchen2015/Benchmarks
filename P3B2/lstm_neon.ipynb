{
 "cells": [
  {
   "cell_type": "code",
   "execution_count": 16,
   "metadata": {
    "collapsed": true
   },
   "outputs": [],
   "source": [
    "from neon.initializers import GlorotUniform, Uniform, Orthonormal\n",
    "from neon.layers import LSTM, Affine, Dropout, LookupTable, RecurrentSum\n",
    "from neon.transforms import Logistic, Tanh, Softmax"
   ]
  },
  {
   "cell_type": "code",
   "execution_count": 4,
   "metadata": {
    "collapsed": true
   },
   "outputs": [],
   "source": [
    "import numpy as np\n",
    "import os\n",
    "import datetime\n",
    "import cPickle"
   ]
  },
  {
   "cell_type": "code",
   "execution_count": 5,
   "metadata": {
    "collapsed": true
   },
   "outputs": [],
   "source": [
    "rnn_size = 256"
   ]
  },
  {
   "cell_type": "code",
   "execution_count": 7,
   "metadata": {
    "collapsed": false
   },
   "outputs": [],
   "source": [
    "f = open('data.pkl', 'r')\n",
    "\n",
    "classes = cPickle.load( f )\n",
    "chars = cPickle.load( f )\n",
    "char_indices = cPickle.load( f )\n",
    "indices_char = cPickle.load( f )\n",
    "\n",
    "maxlen = cPickle.load( f )\n",
    "step = cPickle.load( f )\n",
    "\n",
    "X_ind = cPickle.load( f )\n",
    "y_ind = cPickle.load( f )\n",
    "\n",
    "f.close()\n",
    "\n",
    "[ s1, s2 ] = X_ind.shape\n",
    "\n",
    "X = np.zeros( ( s1, s2, len( chars ) ), dtype=np.bool )\n",
    "y = np.zeros( ( s1, len( chars ) ), dtype=np.bool )\n",
    "\n",
    "for i in range( s1 ):\n",
    "    for t in range( s2 ):\n",
    "        X[ i, t, X_ind[ i, t ] ] = 1\n",
    "y[ i, y_ind[ i ] ] = 1"
   ]
  },
  {
   "cell_type": "code",
   "execution_count": 8,
   "metadata": {
    "collapsed": false
   },
   "outputs": [
    {
     "name": "stdout",
     "output_type": "stream",
     "text": [
      "99\n"
     ]
    }
   ],
   "source": [
    "print len(chars)"
   ]
  },
  {
   "cell_type": "code",
   "execution_count": 17,
   "metadata": {
    "collapsed": true
   },
   "outputs": [],
   "source": [
    "init_glorot = GlorotUniform()\n",
    "init_uniform = Uniform(-0.1/128, 0.1/128)\n",
    "init_orthonormal = Orthonormal()"
   ]
  },
  {
   "cell_type": "code",
   "execution_count": 18,
   "metadata": {
    "collapsed": false
   },
   "outputs": [],
   "source": [
    "layers = [LSTM(output_size=rnn_size, init=init_glorot, activation=Tanh(),\n",
    "               init_inner=init_orthonormal),\n",
    "         Affine(len(chars), init=init_glorot, activation=Softmax())]"
   ]
  },
  {
   "cell_type": "code",
   "execution_count": 21,
   "metadata": {
    "collapsed": false
   },
   "outputs": [],
   "source": [
    "from neon.optimizers import RMSProp\n",
    "from neon.transforms import CrossEntropyMulti\n",
    "\n",
    "optimizer = RMSProp()\n",
    "cost = CrossEntropyMulti()"
   ]
  },
  {
   "cell_type": "code",
   "execution_count": 23,
   "metadata": {
    "collapsed": false
   },
   "outputs": [
    {
     "ename": "NameError",
     "evalue": "name 'valid_set' is not defined",
     "output_type": "error",
     "traceback": [
      "\u001b[1;31m---------------------------------------------------------------------------\u001b[0m",
      "\u001b[1;31mNameError\u001b[0m                                 Traceback (most recent call last)",
      "\u001b[1;32m<ipython-input-23-2d66295da6c2>\u001b[0m in \u001b[0;36m<module>\u001b[1;34m()\u001b[0m\n\u001b[0;32m      5\u001b[0m \u001b[0mfname\u001b[0m \u001b[1;33m=\u001b[0m \u001b[1;34m\"neon_lstm_model\"\u001b[0m\u001b[1;33m\u001b[0m\u001b[0m\n\u001b[0;32m      6\u001b[0m \u001b[1;33m\u001b[0m\u001b[0m\n\u001b[1;32m----> 7\u001b[1;33m callbacks = Callbacks(model, eval_set=valid_set, eval_freq=num_epochs,\n\u001b[0m\u001b[0;32m      8\u001b[0m                       serialize=1, save_path=fname + '.pickle')\n",
      "\u001b[1;31mNameError\u001b[0m: name 'valid_set' is not defined"
     ]
    }
   ],
   "source": [
    "from neon.callbacks import Callbacks\n",
    "from neon.models import Model\n",
    "model = Model(layers=layers)\n",
    "num_epochs = 2\n",
    "fname = \"neon_lstm_model\"\n",
    "\n",
    "callbacks = Callbacks(model, eval_set=valid_set, eval_freq=num_epochs,\n",
    "                      serialize=1, save_path=fname + '.pickle')"
   ]
  },
  {
   "cell_type": "code",
   "execution_count": null,
   "metadata": {
    "collapsed": true
   },
   "outputs": [],
   "source": []
  }
 ],
 "metadata": {
  "kernelspec": {
   "display_name": "Python [Root]",
   "language": "python",
   "name": "Python [Root]"
  },
  "language_info": {
   "codemirror_mode": {
    "name": "ipython",
    "version": 2
   },
   "file_extension": ".py",
   "mimetype": "text/x-python",
   "name": "python",
   "nbconvert_exporter": "python",
   "pygments_lexer": "ipython2",
   "version": "2.7.12"
  }
 },
 "nbformat": 4,
 "nbformat_minor": 0
}
