{
 "cells": [
  {
   "cell_type": "code",
   "execution_count": 2,
   "metadata": {
    "collapsed": true
   },
   "outputs": [],
   "source": [
    "from neon.initializers import GlorotUniform, Uniform, Orthonormal\n",
    "from neon.layers import LSTM, Affine, Dropout, LookupTable, RecurrentSum\n",
    "from neon.transforms import Logistic, Tanh, Softmax"
   ]
  },
  {
   "cell_type": "code",
   "execution_count": 3,
   "metadata": {
    "collapsed": true
   },
   "outputs": [],
   "source": [
    "import numpy as np\n",
    "import os\n",
    "import datetime\n",
    "import cPickle"
   ]
  },
  {
   "cell_type": "code",
   "execution_count": 4,
   "metadata": {
    "collapsed": true
   },
   "outputs": [],
   "source": [
    "rnn_size = 256"
   ]
  },
  {
   "cell_type": "code",
   "execution_count": 5,
   "metadata": {
    "collapsed": false
   },
   "outputs": [],
   "source": [
    "f = open('data.pkl', 'r')\n",
    "\n",
    "classes = cPickle.load( f )\n",
    "chars = cPickle.load( f )\n",
    "char_indices = cPickle.load( f )\n",
    "indices_char = cPickle.load( f )\n",
    "\n",
    "maxlen = cPickle.load( f )\n",
    "step = cPickle.load( f )\n",
    "\n",
    "X_ind = cPickle.load( f )\n",
    "y_ind = cPickle.load( f )\n",
    "\n",
    "f.close()\n",
    "\n",
    "[ s1, s2 ] = X_ind.shape\n",
    "\n",
    "X = np.zeros( ( s1, s2, len( chars ) ), dtype=np.bool )\n",
    "y = np.zeros( ( s1, len( chars ) ), dtype=np.bool )\n",
    "\n",
    "for i in range( s1 ):\n",
    "    for t in range( s2 ):\n",
    "        X[ i, t, X_ind[ i, t ] ] = 1\n",
    "y[ i, y_ind[ i ] ] = 1"
   ]
  },
  {
   "cell_type": "code",
   "execution_count": 6,
   "metadata": {
    "collapsed": false
   },
   "outputs": [
    {
     "name": "stdout",
     "output_type": "stream",
     "text": [
      "99\n"
     ]
    }
   ],
   "source": [
    "print len(chars)"
   ]
  },
  {
   "cell_type": "code",
   "execution_count": 7,
   "metadata": {
    "collapsed": true
   },
   "outputs": [],
   "source": [
    "init_glorot = GlorotUniform()\n",
    "init_uniform = Uniform(-0.1/128, 0.1/128)\n",
    "init_orthonormal = Orthonormal()"
   ]
  },
  {
   "cell_type": "code",
   "execution_count": 8,
   "metadata": {
    "collapsed": false
   },
   "outputs": [
    {
     "ename": "AssertionError",
     "evalue": "LSTM layer requires gate_activation to be specified",
     "output_type": "error",
     "traceback": [
      "\u001b[0;31m---------------------------------------------------------------------------\u001b[0m",
      "\u001b[0;31mAssertionError\u001b[0m                            Traceback (most recent call last)",
      "\u001b[0;32m<ipython-input-8-21b416d6c0f6>\u001b[0m in \u001b[0;36m<module>\u001b[0;34m()\u001b[0m\n\u001b[1;32m      1\u001b[0m layers = [LSTM(output_size=rnn_size, init=init_glorot, activation=Tanh(),\n\u001b[0;32m----> 2\u001b[0;31m                init_inner=init_orthonormal),\n\u001b[0m\u001b[1;32m      3\u001b[0m          Affine(len(chars), init=init_glorot, activation=Softmax())]\n",
      "\u001b[0;32m//anaconda/lib/python2.7/site-packages/neon-1.8.2-py2.7.egg/neon/layers/recurrent.pyc\u001b[0m in \u001b[0;36m__init__\u001b[0;34m(self, output_size, init, init_inner, activation, gate_activation, reset_cells, name)\u001b[0m\n\u001b[1;32m    362\u001b[0m                                    activation, reset_cells, name)\n\u001b[1;32m    363\u001b[0m         assert gate_activation is not None, (\"LSTM layer requires \" +\n\u001b[0;32m--> 364\u001b[0;31m                                              \"gate_activation to be specified\")\n\u001b[0m\u001b[1;32m    365\u001b[0m         \u001b[0;32massert\u001b[0m \u001b[0mactivation\u001b[0m \u001b[0;32mis\u001b[0m \u001b[0;32mnot\u001b[0m \u001b[0mNone\u001b[0m\u001b[0;34m,\u001b[0m \u001b[0;34m\"missing activation function for LSTM\"\u001b[0m\u001b[0;34m\u001b[0m\u001b[0m\n\u001b[1;32m    366\u001b[0m         \u001b[0mself\u001b[0m\u001b[0;34m.\u001b[0m\u001b[0mgate_activation\u001b[0m \u001b[0;34m=\u001b[0m \u001b[0mgate_activation\u001b[0m\u001b[0;34m\u001b[0m\u001b[0m\n",
      "\u001b[0;31mAssertionError\u001b[0m: LSTM layer requires gate_activation to be specified"
     ]
    }
   ],
   "source": [
    "layers = [LSTM(output_size=rnn_size, init=init_glorot, activation=Tanh(),\n",
    "               init_inner=init_orthonormal),\n",
    "         Affine(len(chars), init=init_glorot, activation=Softmax())]"
   ]
  },
  {
   "cell_type": "code",
   "execution_count": null,
   "metadata": {
    "collapsed": false
   },
   "outputs": [],
   "source": [
    "from neon.optimizers import RMSProp\n",
    "from neon.transforms import CrossEntropyMulti\n",
    "\n",
    "optimizer = RMSProp()\n",
    "cost = CrossEntropyMulti()"
   ]
  },
  {
   "cell_type": "code",
   "execution_count": null,
   "metadata": {
    "collapsed": false
   },
   "outputs": [],
   "source": [
    "from neon.callbacks import Callbacks\n",
    "from neon.models import Model\n",
    "model = Model(layers=layers)\n",
    "num_epochs = 2\n",
    "fname = \"neon_lstm_model\"\n",
    "\n",
    "callbacks = Callbacks(model, eval_set=valid_set, eval_freq=num_epochs,\n",
    "                      serialize=1, save_path=fname + '.pickle')"
   ]
  },
  {
   "cell_type": "code",
   "execution_count": 9,
   "metadata": {
    "collapsed": false
   },
   "outputs": [
    {
     "name": "stdout",
     "output_type": "stream",
     "text": [
      "test\n"
     ]
    }
   ],
   "source": [
    "print \"test\""
   ]
  },
  {
   "cell_type": "code",
   "execution_count": null,
   "metadata": {
    "collapsed": true
   },
   "outputs": [],
   "source": []
  }
 ],
 "metadata": {
  "kernelspec": {
   "display_name": "Python 2",
   "language": "python",
   "name": "python2"
  },
  "language_info": {
   "codemirror_mode": {
    "name": "ipython",
    "version": 2
   },
   "file_extension": ".py",
   "mimetype": "text/x-python",
   "name": "python",
   "nbconvert_exporter": "python",
   "pygments_lexer": "ipython2",
   "version": "2.7.11"
  }
 },
 "nbformat": 4,
 "nbformat_minor": 0
}
