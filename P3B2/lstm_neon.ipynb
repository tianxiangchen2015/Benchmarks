{
 "cells": [
  {
   "cell_type": "code",
   "execution_count": 1,
   "metadata": {
    "collapsed": true
   },
   "outputs": [],
   "source": [
    "from neon.layers import GeneralizedCost, LSTM, Affine\n",
    "from neon.models import Model\n",
    "from neon.optimizers import RMSProp\n",
    "from neon.transforms import Logistic, Tanh, Softmax, CrossEntropyMulti\n",
    "from neon.callbacks.callbacks import Callbacks\n",
    "from neon.util.argparser import NeonArgparser\n",
    "from neon.data import Text\n",
    "from neon.initializers import GlorotUniform, Uniform, Orthonormal"
   ]
  },
  {
   "cell_type": "code",
   "execution_count": 2,
   "metadata": {
    "collapsed": false
   },
   "outputs": [],
   "source": [
    "import numpy as np\n",
    "import os\n",
    "import datetime\n",
    "import cPickle\n",
    "import sklearn\n",
    "from sklearn.cross_validation import train_test_split"
   ]
  },
  {
   "cell_type": "code",
   "execution_count": 4,
   "metadata": {
    "collapsed": true
   },
   "outputs": [],
   "source": [
    "from neon.backends import gen_backend\n",
    "be = gen_backend(backend='cpu',batch_size=20)\n",
    "rnn_size = 256"
   ]
  },
  {
   "cell_type": "code",
   "execution_count": 5,
   "metadata": {
    "collapsed": true
   },
   "outputs": [],
   "source": [
    "from neon.data import Text\n",
    "\n",
    "path = '/Users/tgn/Desktop/pilot/Benchmarks/P3B2/raw_text.txt'\n",
    "data = Text(20, path)"
   ]
  },
  {
   "cell_type": "code",
   "execution_count": 8,
   "metadata": {
    "collapsed": false
   },
   "outputs": [],
   "source": [
    "init_glorot = GlorotUniform()\n",
    "init_uniform = Uniform(-0.1/128, 0.1/128)\n",
    "init_orthonormal = Orthonormal()"
   ]
  },
  {
   "cell_type": "code",
   "execution_count": 10,
   "metadata": {
    "collapsed": false
   },
   "outputs": [],
   "source": [
    "layers = [LSTM(output_size=rnn_size, init=init_glorot, activation=Tanh(),gate_activation=Tanh(),\n",
    "               init_inner=init_orthonormal),\n",
    "         Affine(len(data.vocab), init=init_glorot, activation=Softmax())]"
   ]
  },
  {
   "cell_type": "code",
   "execution_count": 11,
   "metadata": {
    "collapsed": false
   },
   "outputs": [],
   "source": [
    "optimizer = RMSProp()\n",
    "cost = GeneralizedCost(costfunc=CrossEntropyMulti(usebits=True))"
   ]
  },
  {
   "cell_type": "code",
   "execution_count": 18,
   "metadata": {
    "collapsed": false
   },
   "outputs": [],
   "source": [
    "from neon.callbacks import Callbacks\n",
    "from neon.models import Model\n",
    "model = Model(layers=layers)\n",
    "num_epochs = 2\n",
    "fname = \"neon_lstm_model\"\n",
    "model = Model(layers=layers)\n",
    "callbacks = Callbacks(model, eval_set=data, eval_freq=num_epochs,\n",
    "                      serialize=1, save_path=fname + '.pickle')"
   ]
  },
  {
   "cell_type": "code",
   "execution_count": null,
   "metadata": {
    "collapsed": false
   },
   "outputs": [
    {
     "name": "stdout",
     "output_type": "stream",
     "text": [
      "Epoch 0   [Train |                    |   80/7177 batches, 4.76 cost, 4.49s]"
     ]
    },
    {
     "name": "stderr",
     "output_type": "stream",
     "text": [
      "//anaconda/lib/python2.7/site-packages/neon-1.8.2-py2.7.egg/neon/backends/nervanacpu.py:486: RuntimeWarning: overflow encountered in square\n",
      "  \"sqr\": lambda left: np.square(left),\n"
     ]
    },
    {
     "name": "stdout",
     "output_type": "stream",
     "text": [
      "Epoch 0   [Train |                    |  186/7177 batches, nan cost, 10.31s]"
     ]
    },
    {
     "name": "stderr",
     "output_type": "stream",
     "text": [
      "//anaconda/lib/python2.7/site-packages/neon-1.8.2-py2.7.egg/neon/backends/nervanacpu.py:499: RuntimeWarning: overflow encountered in add\n",
      "  \"add\": lambda left, right: left + right,\n",
      "//anaconda/lib/python2.7/site-packages/neon-1.8.2-py2.7.egg/neon/backends/nervanacpu.py:501: RuntimeWarning: invalid value encountered in multiply\n",
      "  \"mul\": lambda left, right: left * right,\n"
     ]
    },
    {
     "name": "stdout",
     "output_type": "stream",
     "text": [
      "Epoch 0   [Train |█                   |  532/7177 batches, nan cost, 28.96s]"
     ]
    }
   ],
   "source": [
    "model.fit(data, optimizer=optimizer, num_epochs=64, cost=cost, callbacks=callbacks)"
   ]
  },
  {
   "cell_type": "code",
   "execution_count": 67,
   "metadata": {
    "collapsed": true
   },
   "outputs": [],
   "source": [
    "a = np.arange(60).reshape((10, 3, 2))"
   ]
  },
  {
   "cell_type": "code",
   "execution_count": null,
   "metadata": {
    "collapsed": true
   },
   "outputs": [],
   "source": []
  }
 ],
 "metadata": {
  "kernelspec": {
   "display_name": "Python 2",
   "language": "python",
   "name": "python2"
  },
  "language_info": {
   "codemirror_mode": {
    "name": "ipython",
    "version": 2
   },
   "file_extension": ".py",
   "mimetype": "text/x-python",
   "name": "python",
   "nbconvert_exporter": "python",
   "pygments_lexer": "ipython2",
   "version": "2.7.11"
  }
 },
 "nbformat": 4,
 "nbformat_minor": 0
}
