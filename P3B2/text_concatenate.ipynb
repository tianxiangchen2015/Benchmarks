{
 "cells": [
  {
   "cell_type": "markdown",
   "metadata": {},
   "source": [
    "## Clean and concactenate all the pathology reports into one file"
   ]
  },
  {
   "cell_type": "code",
   "execution_count": 1,
   "metadata": {
    "collapsed": true
   },
   "outputs": [],
   "source": [
    "import numpy as np\n",
    "import cPickle\n",
    "from collections import defaultdict\n",
    "from collections import Counter\n",
    "import sys, re, os\n",
    "import pandas as pd\n",
    "import random,pprint\n",
    "from sklearn.cross_validation import StratifiedKFold\n",
    "homePath = os.path.expanduser(\"~\")\n",
    "pp = pprint.PrettyPrinter(indent = 4)"
   ]
  },
  {
   "cell_type": "code",
   "execution_count": 2,
   "metadata": {
    "collapsed": true
   },
   "outputs": [],
   "source": [
    "def clean_str(string, TREC=False):\n",
    "    \"\"\"\n",
    "    Tokenization/string cleaning for all datasets except for SST.\n",
    "    Every dataset is lower cased except for TREC\n",
    "    \"\"\"\n",
    "    string = re.sub(r\"[^A-Za-z0-9(),!?\\'\\`]\", \" \", string)\n",
    "    string = re.sub(r\"\\'s\", \" \\'s\", string)\n",
    "    string = re.sub(r\"\\'ve\", \" \\'ve\", string)\n",
    "    string = re.sub(r\"n\\'t\", \" n\\'t\", string)\n",
    "    string = re.sub(r\"\\'re\", \" \\'re\", string)\n",
    "    string = re.sub(r\"\\'d\", \" \\'d\", string)\n",
    "    string = re.sub(r\"\\'ll\", \" \\'ll\", string)\n",
    "    string = re.sub(r\",\", \" , \", string)\n",
    "    string = re.sub(r\"!\", \" ! \", string)\n",
    "    string = re.sub(r\"\\(\", \" \\( \", string)\n",
    "    string = re.sub(r\"\\)\", \" \\) \", string)\n",
    "    string = re.sub(r\"\\?\", \" \\? \", string)\n",
    "    string = re.sub(r\"\\s{2,}\", \" \", string)\n",
    "    return string.strip()\n",
    "\n",
    "def clean_str_sst(string):\n",
    "    \"\"\"\n",
    "    Tokenization/string cleaning for the SST dataset\n",
    "    \"\"\"\n",
    "    string = re.sub(r\"[^A-Za-z0-9(),!?\\'\\`]\", \" \", string)\n",
    "    string = re.sub(r\"\\s{2,}\", \" \", string)\n",
    "    return string.strip()\n",
    "\n",
    "def cleanReadReport(infile,fileDir):\n",
    "    #stage 1: clean document by line\n",
    "    reportPath=os.path.normpath(fileDir+'/'+infile)\n",
    "    outfile=\"\"\n",
    "    with open(os.path.normpath(reportPath), 'r') as inFile:\n",
    "        readFile = inFile.read()\n",
    "    cleanedFile = cleanDoc(readFile)\n",
    "    return cleanedFile\n",
    "\n",
    "def cleanDoc(inDoc):\n",
    "    outDoc=[]\n",
    "    #print '==========================================='\n",
    "    #print 'inline ', inDoc\n",
    "    #print '==========================================='\n",
    "    for line in inDoc.splitlines():\n",
    "        outDoc.append(cleanLine(line.strip()))\n",
    "        output=' '.join(outDoc)\n",
    "        #print 'before', output\n",
    "        tokenized=[cleanWord(word) for word in output.split(\" \") \\\n",
    "            if len(cleanWord(word))>0]\n",
    "\t\t#print 'after', tokenized\n",
    "    #thisText=Text(' '.join(tokenized))\n",
    "    #print '-------------------------------------------'\n",
    "    #print 'outline'\n",
    "    #pp.pprint(thisText.sentences)\n",
    "    #print '-------------------------------------------'\n",
    "    return tokenized\n",
    "\n",
    "reWord=re.compile(r'[^a-zA-Z0-9]')\n",
    "#sub7=re.compile(r'[0-9]{1,}[\\.]{0,1}[0-9]{0,1}')\n",
    "def cleanWord(text):\n",
    "    text = text.strip()\n",
    "    #text= sub7.sub('NUMBER',text)\n",
    "    return text\n",
    "\n",
    "sub1=re.compile(r'<.*?>')\n",
    "sub2=re.compile(r'\\\\{1,2}X[a-zA-Z0-9]{1,}\\\\?')\n",
    "#sub3=re.compile(r'[**]\\/?[^\\]]*]')\n",
    "sub4=re.compile(r'([^0-9\\s])\\1{2,}')\n",
    "#sub5=re.compile(r'[[]\\/?[^>]*[]]')\n",
    "sub6=re.compile(r'[A-Z][a-z]+[A-Z][a-z]+[:]')\n",
    "\n",
    "def cleanLine(text):\n",
    "    text = sub1.sub(' ',text)\n",
    "    text = sub2.sub(' ',text)\n",
    "    #text = sub3.sub('',text)\n",
    "    text = sub4.sub(' ',text)\n",
    "    #text = sub5.sub('',text)\n",
    "    text = sub6.sub(' ',text)\n",
    "    text= reWord.sub(' ',text)\n",
    "    return text"
   ]
  },
  {
   "cell_type": "code",
   "execution_count": 3,
   "metadata": {
    "collapsed": true
   },
   "outputs": [],
   "source": [
    "usingDir='/Dropbox/pathology'"
   ]
  },
  {
   "cell_type": "code",
   "execution_count": 4,
   "metadata": {
    "collapsed": false
   },
   "outputs": [
    {
     "name": "stdout",
     "output_type": "stream",
     "text": [
      "['c34.0', 'c34.1', 'c34.2', 'c34.3', 'c34.9', 'c50.1', 'c50.2', 'c50.3', 'c50.4', 'c50.5', 'c50.8', 'c50.9']\n"
     ]
    }
   ],
   "source": [
    "#get each class by dir\n",
    "classDirs=[name for name in os.listdir(os.path.normpath(homePath+usingDir)) \\\n",
    "            if os.path.isdir(os.path.normpath(homePath+usingDir+'/'+name))]\n",
    "classDirs.sort()\n",
    "\n",
    "print classDirs"
   ]
  },
  {
   "cell_type": "code",
   "execution_count": 5,
   "metadata": {
    "collapsed": false
   },
   "outputs": [],
   "source": [
    "# get the path of each files\n",
    "fileByClass=[os.listdir(os.path.normpath(homePath+usingDir+'/'+thisClass))\n",
    "             for thisClass in classDirs]"
   ]
  },
  {
   "cell_type": "markdown",
   "metadata": {},
   "source": [
    "### Load and clean all the files"
   ]
  },
  {
   "cell_type": "code",
   "execution_count": 6,
   "metadata": {
    "collapsed": false
   },
   "outputs": [],
   "source": [
    "# Read all the files\n",
    "revs = []\n",
    "classes = []\n",
    "lenCompare = []\n",
    "lenDict = {}\n",
    "for i in range(len(classDirs)):\n",
    "    for report in fileByClass[i]:\n",
    "        if report.endswith('.txt'):\n",
    "            thisReportDir = os.path.normpath(homePath+usingDir+'/'+classDirs[i])\n",
    "            cleanedReport = cleanReadReport(report, thisReportDir)\n",
    "            text = \" \".join(cleanedReport).strip()\n",
    "            revs.append(text)      "
   ]
  },
  {
   "cell_type": "markdown",
   "metadata": {},
   "source": [
    "### Output file 'raw_text_upper.txt'"
   ]
  },
  {
   "cell_type": "code",
   "execution_count": 8,
   "metadata": {
    "collapsed": false
   },
   "outputs": [],
   "source": [
    "# write all the files into one txt file\n",
    "with open('raw_text_upper.txt', 'w') as f:\n",
    "    for report in revs:\n",
    "        print >> f, report"
   ]
  },
  {
   "cell_type": "code",
   "execution_count": null,
   "metadata": {
    "collapsed": true
   },
   "outputs": [],
   "source": []
  }
 ],
 "metadata": {
  "kernelspec": {
   "display_name": "Python 2",
   "language": "python",
   "name": "python2"
  },
  "language_info": {
   "codemirror_mode": {
    "name": "ipython",
    "version": 2
   },
   "file_extension": ".py",
   "mimetype": "text/x-python",
   "name": "python",
   "nbconvert_exporter": "python",
   "pygments_lexer": "ipython2",
   "version": "2.7.11"
  }
 },
 "nbformat": 4,
 "nbformat_minor": 0
}
